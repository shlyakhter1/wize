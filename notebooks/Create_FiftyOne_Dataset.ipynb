{
 "cells": [
  {
   "cell_type": "code",
   "execution_count": 1,
   "id": "fdc78786-cb80-4ccb-af6d-61dd9b2179ed",
   "metadata": {},
   "outputs": [
    {
     "name": "stdout",
     "output_type": "stream",
     "text": []
    },
    {
     "name": "stdout",
     "output_type": "stream",
     "text": [
      " 100% |███████████████████| 20/20 [7.0ms elapsed, 0s remaining, 2.9K samples/s]      \n",
      " 100% |███████████████████| 18/18 [2.4ms elapsed, 0s remaining, 7.7K samples/s]      \n",
      " 100% |███████████████████| 20/20 [2.5ms elapsed, 0s remaining, 8.1K samples/s]      \n",
      "Name:        wise-dataset\n",
      "Media type:  image\n",
      "Num samples: 58\n",
      "Persistent:  False\n",
      "Tags:        []\n",
      "Sample fields:\n",
      "    id:               fiftyone.core.fields.ObjectIdField\n",
      "    filepath:         fiftyone.core.fields.StringField\n",
      "    tags:             fiftyone.core.fields.ListField(fiftyone.core.fields.StringField)\n",
      "    metadata:         fiftyone.core.fields.EmbeddedDocumentField(fiftyone.core.metadata.ImageMetadata)\n",
      "    created_at:       fiftyone.core.fields.DateTimeField\n",
      "    last_modified_at: fiftyone.core.fields.DateTimeField\n",
      "[<Sample: {\n",
      "    'id': '671e90e79aad8a04b9ed4965',\n",
      "    'media_type': 'image',\n",
      "    'filepath': '/Users/yuri/projects/fiftyOne/hack/wize/data/8_ave_44_str/8_44_01.JPG',\n",
      "    'tags': ['8_ave_44_str'],\n",
      "    'metadata': None,\n",
      "    'created_at': datetime.datetime(2024, 10, 27, 19, 13, 43, 109000),\n",
      "    'last_modified_at': datetime.datetime(2024, 10, 27, 19, 13, 43, 109000),\n",
      "}>, <Sample: {\n",
      "    'id': '671e90e79aad8a04b9ed4966',\n",
      "    'media_type': 'image',\n",
      "    'filepath': '/Users/yuri/projects/fiftyOne/hack/wize/data/8_ave_44_str/8_44_02.JPG',\n",
      "    'tags': ['8_ave_44_str'],\n",
      "    'metadata': None,\n",
      "    'created_at': datetime.datetime(2024, 10, 27, 19, 13, 43, 111000),\n",
      "    'last_modified_at': datetime.datetime(2024, 10, 27, 19, 13, 43, 111000),\n",
      "}>, <Sample: {\n",
      "    'id': '671e90e79aad8a04b9ed4967',\n",
      "    'media_type': 'image',\n",
      "    'filepath': '/Users/yuri/projects/fiftyOne/hack/wize/data/8_ave_44_str/8_44_03.JPG',\n",
      "    'tags': ['8_ave_44_str'],\n",
      "    'metadata': None,\n",
      "    'created_at': datetime.datetime(2024, 10, 27, 19, 13, 43, 111000),\n",
      "    'last_modified_at': datetime.datetime(2024, 10, 27, 19, 13, 43, 111000),\n",
      "}>]\n"
     ]
    }
   ],
   "source": [
    "\n",
    "import fiftyone as fo\n",
    "\n",
    "name = \"wise-dataset\"\n",
    "dataset_dir1 = \"../data/8_ave_44_str\"\n",
    "dataset_dir2 = \"../data/8_ave_49_str\"\n",
    "dataset_dir3 = \"../data/8_ave_57_str\"\n",
    "# Create the dataset\n",
    "\n",
    "\n",
    "# Create an empty dataset\n",
    "dataset = fo.Dataset(name=name)\n",
    "\n",
    "\n",
    "dataset.add_dir(dataset_dir=dataset_dir1, dataset_type=fo.types.ImageDirectory, tags=\"8_ave_44_str\")\n",
    "dataset.add_dir(dataset_dir=dataset_dir2, dataset_type=fo.types.ImageDirectory, tags=\"8_ave_49_str\")\n",
    "dataset.add_dir(dataset_dir=dataset_dir3, dataset_type=fo.types.ImageDirectory, tags=\"8_ave_57_str\")\n",
    "\n",
    "# View summary info about the dataset\n",
    "print(dataset)\n",
    "\n",
    "# Print the first few samples in the dataset\n",
    "print(dataset.head())"
   ]
  },
  {
   "cell_type": "code",
   "execution_count": 11,
   "id": "dac06e77-3efa-4e36-9c10-a29632a13733",
   "metadata": {},
   "outputs": [
    {
     "data": {
      "text/html": [
       "\n",
       "        <iframe\n",
       "            width=\"100%\"\n",
       "            height=\"800\"\n",
       "            src=\"http://localhost:5151/?notebook=True&subscription=3abe2dea-5684-41f2-9e86-ded659e93342\"\n",
       "            frameborder=\"0\"\n",
       "            allowfullscreen\n",
       "            \n",
       "        ></iframe>\n",
       "        "
      ],
      "text/plain": [
       "<IPython.lib.display.IFrame at 0x13b75d390>"
      ]
     },
     "metadata": {},
     "output_type": "display_data"
    }
   ],
   "source": [
    "session = fo.launch_app(dataset)"
   ]
  },
  {
   "cell_type": "code",
   "execution_count": 3,
   "id": "3787ba7a-6c20-4fab-8574-2979fcdc2621",
   "metadata": {},
   "outputs": [],
   "source": [
    "from ultralytics import YOLO"
   ]
  },
  {
   "cell_type": "code",
   "execution_count": 4,
   "id": "4a233a2a-af67-4ff9-a65e-2da4e4630e30",
   "metadata": {},
   "outputs": [],
   "source": [
    "model = YOLO(\"yolov8s.pt\")"
   ]
  },
  {
   "cell_type": "code",
   "execution_count": 5,
   "id": "552cf66a-d145-4067-93e2-aafb26e2ded9",
   "metadata": {},
   "outputs": [
    {
     "name": "stdout",
     "output_type": "stream",
     "text": []
    },
    {
     "name": "stdout",
     "output_type": "stream",
     "text": [
      " 100% |███████████████████| 58/58 [4.2s elapsed, 0s remaining, 14.1 samples/s]      \n"
     ]
    }
   ],
   "source": [
    "dataset.apply_model(model, label_field=\"boxes\")"
   ]
  },
  {
   "cell_type": "code",
   "execution_count": 7,
   "id": "43e456b3-b0ea-4ea8-bf99-a8b623ce1f20",
   "metadata": {},
   "outputs": [],
   "source": [
    "from fiftyone import ViewField as F\n",
    "view = dataset.filter_labels(\"boxes\", F(\"label\") == \"car\")\n",
    "view.save()"
   ]
  },
  {
   "cell_type": "code",
   "execution_count": 9,
   "id": "da107662-db2c-4472-9cc3-61bb31170f9d",
   "metadata": {},
   "outputs": [],
   "source": [
    "dataset.add_sample_field(\"car_count\", fo.IntField)\n",
    "dataset.set_field(\"car_count\", F(\"boxes.detections\").length()).save()"
   ]
  },
  {
   "cell_type": "code",
   "execution_count": 12,
   "id": "bd02266e-8050-47ff-a5ef-43b537b3d72a",
   "metadata": {},
   "outputs": [
    {
     "data": {
      "text/plain": [
       "[14,\n",
       " 11,\n",
       " 9,\n",
       " 8,\n",
       " 9,\n",
       " 13,\n",
       " 12,\n",
       " 10,\n",
       " 9,\n",
       " 9,\n",
       " 14,\n",
       " 16,\n",
       " 18,\n",
       " 14,\n",
       " 17,\n",
       " 17,\n",
       " 14,\n",
       " 13,\n",
       " 9,\n",
       " 10,\n",
       " 3,\n",
       " 7,\n",
       " 6,\n",
       " 1,\n",
       " 6,\n",
       " 5,\n",
       " 3,\n",
       " 5,\n",
       " 3,\n",
       " 10,\n",
       " 8,\n",
       " 4,\n",
       " 6,\n",
       " 5,\n",
       " 7,\n",
       " 6,\n",
       " 7,\n",
       " 7,\n",
       " 8,\n",
       " 7]"
      ]
     },
     "execution_count": 12,
     "metadata": {},
     "output_type": "execute_result"
    }
   ],
   "source": [
    "dataset.values(F(\"boxes.detections\").length())"
   ]
  },
  {
   "cell_type": "code",
   "execution_count": null,
   "id": "8e43bdfe-42ec-40ba-a028-85e2159fb1b1",
   "metadata": {},
   "outputs": [],
   "source": []
  }
 ],
 "metadata": {
  "kernelspec": {
   "display_name": "Python 3 (ipykernel)",
   "language": "python",
   "name": "python3"
  },
  "language_info": {
   "codemirror_mode": {
    "name": "ipython",
    "version": 3
   },
   "file_extension": ".py",
   "mimetype": "text/x-python",
   "name": "python",
   "nbconvert_exporter": "python",
   "pygments_lexer": "ipython3",
   "version": "3.11.9"
  }
 },
 "nbformat": 4,
 "nbformat_minor": 5
}
