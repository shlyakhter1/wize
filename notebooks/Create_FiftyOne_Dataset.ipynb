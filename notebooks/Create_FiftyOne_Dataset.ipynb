{
 "cells": [
  {
   "cell_type": "code",
   "execution_count": 1,
   "id": "fdc78786-cb80-4ccb-af6d-61dd9b2179ed",
   "metadata": {},
   "outputs": [
    {
     "name": "stdout",
     "output_type": "stream",
     "text": []
    },
    {
     "name": "stdout",
     "output_type": "stream",
     "text": [
      " 100% |███████████████████| 20/20 [7.4ms elapsed, 0s remaining, 2.7K samples/s]      \n",
      " 100% |███████████████████| 20/20 [2.7ms elapsed, 0s remaining, 7.5K samples/s]      \n",
      "Name:        wise-dataset\n",
      "Media type:  image\n",
      "Num samples: 40\n",
      "Persistent:  False\n",
      "Tags:        []\n",
      "Sample fields:\n",
      "    id:               fiftyone.core.fields.ObjectIdField\n",
      "    filepath:         fiftyone.core.fields.StringField\n",
      "    tags:             fiftyone.core.fields.ListField(fiftyone.core.fields.StringField)\n",
      "    metadata:         fiftyone.core.fields.EmbeddedDocumentField(fiftyone.core.metadata.ImageMetadata)\n",
      "    created_at:       fiftyone.core.fields.DateTimeField\n",
      "    last_modified_at: fiftyone.core.fields.DateTimeField\n",
      "[<Sample: {\n",
      "    'id': '671e8523d134589989a80bb0',\n",
      "    'media_type': 'image',\n",
      "    'filepath': '/Users/yuri/projects/fiftyOne/hack/wize/data/8_ave_44_str/8_44_01.JPG',\n",
      "    'tags': ['8_ave_44_str'],\n",
      "    'metadata': None,\n",
      "    'created_at': datetime.datetime(2024, 10, 27, 18, 23, 31, 450000),\n",
      "    'last_modified_at': datetime.datetime(2024, 10, 27, 18, 23, 31, 450000),\n",
      "}>, <Sample: {\n",
      "    'id': '671e8523d134589989a80bb1',\n",
      "    'media_type': 'image',\n",
      "    'filepath': '/Users/yuri/projects/fiftyOne/hack/wize/data/8_ave_44_str/8_44_02.JPG',\n",
      "    'tags': ['8_ave_44_str'],\n",
      "    'metadata': None,\n",
      "    'created_at': datetime.datetime(2024, 10, 27, 18, 23, 31, 451000),\n",
      "    'last_modified_at': datetime.datetime(2024, 10, 27, 18, 23, 31, 451000),\n",
      "}>, <Sample: {\n",
      "    'id': '671e8523d134589989a80bb2',\n",
      "    'media_type': 'image',\n",
      "    'filepath': '/Users/yuri/projects/fiftyOne/hack/wize/data/8_ave_44_str/8_44_03.JPG',\n",
      "    'tags': ['8_ave_44_str'],\n",
      "    'metadata': None,\n",
      "    'created_at': datetime.datetime(2024, 10, 27, 18, 23, 31, 451000),\n",
      "    'last_modified_at': datetime.datetime(2024, 10, 27, 18, 23, 31, 451000),\n",
      "}>]\n"
     ]
    }
   ],
   "source": [
    "\n",
    "import fiftyone as fo\n",
    "\n",
    "name = \"wise-dataset\"\n",
    "dataset_dir1 = \"../data/8_ave_44_str\"\n",
    "dataset_dir2 = \"../data/8_ave_57_str\"\n",
    "\n",
    "# Create the dataset\n",
    "\n",
    "\n",
    "# Create an empty dataset\n",
    "dataset = fo.Dataset(name=name)\n",
    "\n",
    "\n",
    "dataset.add_dir(dataset_dir=dataset_dir1, dataset_type=fo.types.ImageDirectory, tags=\"8_ave_44_str\")\n",
    "dataset.add_dir(dataset_dir=dataset_dir2, dataset_type=fo.types.ImageDirectory, tags=\"8_ave_57_str\")\n",
    "\n",
    "# View summary info about the dataset\n",
    "print(dataset)\n",
    "\n",
    "# Print the first few samples in the dataset\n",
    "print(dataset.head())"
   ]
  },
  {
   "cell_type": "code",
   "execution_count": 2,
   "id": "dac06e77-3efa-4e36-9c10-a29632a13733",
   "metadata": {},
   "outputs": [
    {
     "data": {
      "text/html": [
       "\n",
       "        <iframe\n",
       "            width=\"100%\"\n",
       "            height=\"800\"\n",
       "            src=\"http://localhost:5151/?notebook=True&subscription=282c2889-cece-4803-b01f-055e1b777301\"\n",
       "            frameborder=\"0\"\n",
       "            allowfullscreen\n",
       "            \n",
       "        ></iframe>\n",
       "        "
      ],
      "text/plain": [
       "<IPython.lib.display.IFrame at 0x12166e1d0>"
      ]
     },
     "metadata": {},
     "output_type": "display_data"
    }
   ],
   "source": [
    "session = fo.launch_app(dataset)"
   ]
  },
  {
   "cell_type": "code",
   "execution_count": 3,
   "id": "3787ba7a-6c20-4fab-8574-2979fcdc2621",
   "metadata": {},
   "outputs": [
    {
     "name": "stdout",
     "output_type": "stream",
     "text": [
      "Creating new Ultralytics Settings v0.0.6 file ✅ \n",
      "View Ultralytics Settings with 'yolo settings' or at '/Users/yuri/Library/Application Support/Ultralytics/settings.json'\n",
      "Update Settings with 'yolo settings key=value', i.e. 'yolo settings runs_dir=path/to/dir'. For help see https://docs.ultralytics.com/quickstart/#ultralytics-settings.\n"
     ]
    }
   ],
   "source": [
    "from ultralytics import YOLO"
   ]
  },
  {
   "cell_type": "code",
   "execution_count": 4,
   "id": "4a233a2a-af67-4ff9-a65e-2da4e4630e30",
   "metadata": {},
   "outputs": [
    {
     "name": "stdout",
     "output_type": "stream",
     "text": [
      "Downloading https://github.com/ultralytics/assets/releases/download/v8.3.0/yolov8s.pt to 'yolov8s.pt'...\n"
     ]
    },
    {
     "name": "stderr",
     "output_type": "stream",
     "text": [
      "100%|██████████████████████████████████████| 21.5M/21.5M [00:09<00:00, 2.36MB/s]\n"
     ]
    }
   ],
   "source": [
    "model = YOLO(\"yolov8s.pt\")"
   ]
  },
  {
   "cell_type": "code",
   "execution_count": 5,
   "id": "552cf66a-d145-4067-93e2-aafb26e2ded9",
   "metadata": {},
   "outputs": [
    {
     "name": "stdout",
     "output_type": "stream",
     "text": []
    },
    {
     "name": "stdout",
     "output_type": "stream",
     "text": [
      " 100% |███████████████████| 40/40 [3.1s elapsed, 0s remaining, 13.7 samples/s]      \n"
     ]
    },
    {
     "data": {
      "text/html": [
       "\n",
       "        <iframe\n",
       "            width=\"100%\"\n",
       "            height=\"800\"\n",
       "            src=\"http://localhost:5151/?notebook=True&subscription=227e05ad-334f-48fb-947f-cdca0e736827\"\n",
       "            frameborder=\"0\"\n",
       "            allowfullscreen\n",
       "            \n",
       "        ></iframe>\n",
       "        "
      ],
      "text/plain": [
       "<IPython.lib.display.IFrame at 0x1634cfa50>"
      ]
     },
     "metadata": {},
     "output_type": "display_data"
    }
   ],
   "source": [
    "dataset.apply_model(model, label_field=\"boxes\")\n",
    "\n",
    "session = fo.launch_app(dataset)"
   ]
  },
  {
   "cell_type": "code",
   "execution_count": 10,
   "id": "43e456b3-b0ea-4ea8-bf99-a8b623ce1f20",
   "metadata": {},
   "outputs": [],
   "source": [
    "from fiftyone import ViewField as F\n",
    "view = dataset.filter_labels(\"boxes\", F(\"label\") == \"car\")\n",
    "view.save()"
   ]
  },
  {
   "cell_type": "code",
   "execution_count": 18,
   "id": "c6e24a4c-3ed8-4752-a8dc-5875f95ae3dc",
   "metadata": {},
   "outputs": [
    {
     "data": {
      "text/html": [
       "\n",
       "        <iframe\n",
       "            width=\"100%\"\n",
       "            height=\"800\"\n",
       "            src=\"http://localhost:5151/?notebook=True&subscription=7875a063-1318-4c68-a627-4ab0175502df\"\n",
       "            frameborder=\"0\"\n",
       "            allowfullscreen\n",
       "            \n",
       "        ></iframe>\n",
       "        "
      ],
      "text/plain": [
       "<IPython.lib.display.IFrame at 0x16820bd50>"
      ]
     },
     "metadata": {},
     "output_type": "display_data"
    }
   ],
   "source": [
    "session = fo.launch_app(dataset)"
   ]
  },
  {
   "cell_type": "code",
   "execution_count": 17,
   "id": "da107662-db2c-4472-9cc3-61bb31170f9d",
   "metadata": {},
   "outputs": [],
   "source": [
    "dataset.add_sample_field(\"car_count\", fo.IntField)\n",
    "dataset.set_field(\"car_count\", F(\"boxes.detections\").length()).save()"
   ]
  },
  {
   "cell_type": "code",
   "execution_count": 12,
   "id": "bd02266e-8050-47ff-a5ef-43b537b3d72a",
   "metadata": {},
   "outputs": [
    {
     "data": {
      "text/plain": [
       "[14,\n",
       " 11,\n",
       " 9,\n",
       " 8,\n",
       " 9,\n",
       " 13,\n",
       " 12,\n",
       " 10,\n",
       " 9,\n",
       " 9,\n",
       " 14,\n",
       " 16,\n",
       " 18,\n",
       " 14,\n",
       " 17,\n",
       " 17,\n",
       " 14,\n",
       " 13,\n",
       " 9,\n",
       " 10,\n",
       " 3,\n",
       " 7,\n",
       " 6,\n",
       " 1,\n",
       " 6,\n",
       " 5,\n",
       " 3,\n",
       " 5,\n",
       " 3,\n",
       " 10,\n",
       " 8,\n",
       " 4,\n",
       " 6,\n",
       " 5,\n",
       " 7,\n",
       " 6,\n",
       " 7,\n",
       " 7,\n",
       " 8,\n",
       " 7]"
      ]
     },
     "execution_count": 12,
     "metadata": {},
     "output_type": "execute_result"
    }
   ],
   "source": [
    "dataset.values(F(\"boxes.detections\").length())"
   ]
  },
  {
   "cell_type": "code",
   "execution_count": null,
   "id": "8e43bdfe-42ec-40ba-a028-85e2159fb1b1",
   "metadata": {},
   "outputs": [],
   "source": []
  }
 ],
 "metadata": {
  "kernelspec": {
   "display_name": "Python 3 (ipykernel)",
   "language": "python",
   "name": "python3"
  },
  "language_info": {
   "codemirror_mode": {
    "name": "ipython",
    "version": 3
   },
   "file_extension": ".py",
   "mimetype": "text/x-python",
   "name": "python",
   "nbconvert_exporter": "python",
   "pygments_lexer": "ipython3",
   "version": "3.11.9"
  }
 },
 "nbformat": 4,
 "nbformat_minor": 5
}
